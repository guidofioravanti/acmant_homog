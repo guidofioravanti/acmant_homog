{
 "cells": [
  {
   "cell_type": "code",
   "execution_count": 7,
   "metadata": {},
   "outputs": [],
   "source": [
    "#conteggio del numero di breakpoint nelle serie mensili omogenee prodotte da ACMANT.\n",
    "#Questo controllo serve per verificare che la differenza di valori tra le serie di acmant e quelle di climatol\n",
    "#non dipendano dal fatto che le serie di ACMANT sono state poco omogeneizzate (e quindi ricalchino quelle originali).\n",
    "#Il file risultato.csv contiene per ogni stazione il numero di breakpoint trovati, Il file risultato.csv è stato prodotto\n",
    "#mediante uno script bash (sostanzialmente grep e sed) che elabora i file *brk.txt prodotti da ACMANT. Lo script \n",
    "#bash cerca in questi file le stazioni che con CLIMATOL sono state identificate come stazioni ancora funzionanti nel 2015\n",
    "#e sufficientemente lunghe e complete (ma non per questo utili per il calcolo delle anomali: le serie di Abruzzo ad esempio \n",
    "#hanno troppo NA nel periodo 1961-1990).\n",
    "import pandas as pd\n",
    "import numpy as np\n",
    "import seaborn as sns"
   ]
  },
  {
   "cell_type": "code",
   "execution_count": 8,
   "metadata": {},
   "outputs": [],
   "source": [
    "ris=pd.read_csv(\"risultato.csv\",sep=\";\",header=None,names=[\"file\",\"id\",\"periodo\",\"periodo_homog\",\"nbrk\",\"nout\",\"codice\",\"trash\"])"
   ]
  },
  {
   "cell_type": "code",
   "execution_count": 9,
   "metadata": {},
   "outputs": [],
   "source": [
    "#trasformo i breakpoint in stringhe\n",
    "ris.nbrk=ris.nbrk.astype(str)"
   ]
  },
  {
   "cell_type": "code",
   "execution_count": 10,
   "metadata": {},
   "outputs": [],
   "source": [
    "#numero di stazioni che hanno 0, 1, 2..etc etc breakpoints\n",
    "conteggio=ris.nbrk.value_counts()"
   ]
  },
  {
   "cell_type": "code",
   "execution_count": 11,
   "metadata": {},
   "outputs": [
    {
     "data": {
      "text/plain": [
       "<matplotlib.axes._subplots.AxesSubplot at 0x7fb7b6021630>"
      ]
     },
     "execution_count": 11,
     "metadata": {},
     "output_type": "execute_result"
    },
    {
     "data": {
      "image/png": "[encoded data removed]",
      "text/plain": [
       "<Figure size 432x288 with 1 Axes>"
      ]
     },
     "metadata": {},
     "output_type": "display_data"
    }
   ],
   "source": [
    "#grafico del conteggio\n",
    "sns.countplot(ris['nbrk'])"
   ]
  },
  {
   "cell_type": "code",
   "execution_count": 12,
   "metadata": {},
   "outputs": [
    {
     "data": {
      "text/plain": [
       "4     34\n",
       "5     34\n",
       "3     23\n",
       "7     21\n",
       "2     19\n",
       "6     17\n",
       "8      9\n",
       "1      4\n",
       "9      3\n",
       "0      3\n",
       "10     2\n",
       "11     1\n",
       "Name: nbrk, dtype: int64"
      ]
     },
     "execution_count": 12,
     "metadata": {},
     "output_type": "execute_result"
    }
   ],
   "source": [
    "conteggio\n"
   ]
  },
  {
   "cell_type": "code",
   "execution_count": 15,
   "metadata": {},
   "outputs": [
    {
     "data": {
      "text/plain": [
       "(170, 8)"
      ]
     },
     "execution_count": 15,
     "metadata": {},
     "output_type": "execute_result"
    }
   ],
   "source": [
    "ris[ris.periodo==ris.periodo_homog].shape"
   ]
  },
  {
   "cell_type": "code",
   "execution_count": null,
   "metadata": {},
   "outputs": [],
   "source": []
  }
 ],
 "metadata": {
  "kernelspec": {
   "display_name": "Python 3",
   "language": "python",
   "name": "python3"
  },
  "language_info": {
   "codemirror_mode": {
    "name": "ipython",
    "version": 3
   },
   "file_extension": ".py",
   "mimetype": "text/x-python",
   "name": "python",
   "nbconvert_exporter": "python",
   "pygments_lexer": "ipython3",
   "version": "3.6.5"
  }
 },
 "nbformat": 4,
 "nbformat_minor": 2
}
